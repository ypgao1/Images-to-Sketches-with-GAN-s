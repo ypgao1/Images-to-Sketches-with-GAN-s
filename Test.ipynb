{
 "cells": [
  {
   "cell_type": "code",
   "execution_count": 1,
   "metadata": {},
   "outputs": [],
   "source": [
    "import torch\n",
    "import torch.nn as nn\n",
    "\n",
    "import argparse\n",
    "import os\n",
    "from math import log10\n",
    "import json\n",
    "\n",
    "import torch.optim as optim\n",
    "from torch.utils.data import DataLoader\n",
    "import torch.backends.cudnn as cudnn\n",
    "\n",
    "import torchvision\n",
    "import torchvision.transforms as transforms\n",
    "from torchvision.utils import save_image\n",
    "\n",
    "\n",
    "from statistics import mean\n",
    "  \n",
    "\n",
    "from torch.nn import init\n",
    "import functools\n",
    "import itertools\n",
    "\n",
    "from torch.autograd import Variable\n",
    "from torch.optim import lr_scheduler\n",
    "import numpy as np\n",
    "import time\n",
    "from generators.generators import create_gen\n",
    "from discriminators.discriminators import create_disc\n",
    "from losses.Loss import GANLoss\n",
    "from datasets.datasets import get_dataset\n",
    "from util import ImagePool, set_requires_grad,tensor_to_plt,init_weights, mkdir\n",
    "from Tensorboard_Logger import Logger"
   ]
  },
  {
   "cell_type": "code",
   "execution_count": 2,
   "metadata": {},
   "outputs": [],
   "source": [
    "class Opt:\n",
    "     def __init__(self, dictionary):\n",
    "        for k, v in dictionary.items():\n",
    "             setattr(self, k, v)\n",
    "\n",
    "def load_opt(folder_name):\n",
    "    path = os.path.join(os.getcwd(),\"models\",folder_name,\"params.txt\")\n",
    "    with open(path) as json_file:\n",
    "        opt = json.load(json_file)\n",
    "    \n",
    "    opt = Opt(opt)\n",
    "    return opt\n",
    "\n",
    "def load_model(folder_name,model_name, opt,device):\n",
    "    G = create_gen(opt.gen,opt.input_dim,opt.output_dim,opt.gen_filters,opt.norm,multigpu=False)\n",
    "    G.to(device)\n",
    "    \n",
    "    checkpoint = torch.load(os.path.join(os.getcwd(),\"models\",folder_name,model_name))\n",
    "    G.load_state_dict(checkpoint[\"gen\"]) #for cyclegan replace 'gen' with 'genAB'\n",
    "    return G\n",
    "\n",
    "def load_data(photo_path,sketch_path,opt):\n",
    "    data = get_dataset(photo_path,sketch_path, opt,flip=False,jitter=False,erase= False)\n",
    "    dataset = DataLoader(dataset=data, batch_size=1, shuffle=False,num_workers=4)\n",
    "    return dataset\n",
    "\n",
    "def unnormalize(a):\n",
    "    return a/2 +0.5\n",
    "def onechannel_to_three(a):\n",
    "    return torch.cat((a,a,a),0)\n",
    "def concat_images(photo,sketch,output):\n",
    "    return torch.cat((photo,sketch,output),2)\n",
    "\n",
    "def save_images(dataset,path):\n",
    "    for i, batch in enumerate(dataset):\n",
    "        real_A, real_B = batch[0], batch[1]\n",
    "        with torch.no_grad():\n",
    "            out = Gen(real_A.to(device))[0].cpu()\n",
    "        out = onechannel_to_three(out)\n",
    "\n",
    "        a = real_A[0]\n",
    "        a = unnormalize(a)\n",
    "\n",
    "        b = real_B[0][0].unsqueeze(0)\n",
    "        b = unnormalize(b)\n",
    "        b = onechannel_to_three(b)\n",
    "        \n",
    "        file_name = str(i) +\".png\"\n",
    "        save_image(concat_images(a,b,out),os.path.join(path,file_name))"
   ]
  },
  {
   "cell_type": "code",
   "execution_count": 3,
   "metadata": {},
   "outputs": [],
   "source": [
    "folder= \"UNetPlusPlus_with_RE_and_smoothing\"\n",
    "opt = load_opt(folder)\n",
    "device = torch.device(\"cuda:0\")\n",
    "Gen = load_model(folder,opt.gen,opt,device)"
   ]
  },
  {
   "cell_type": "code",
   "execution_count": 12,
   "metadata": {},
   "outputs": [],
   "source": [
    "photo_path_train = os.path.join(os.getcwd(),\"data\",\"aligned\",\"test\", \"photo\")\n",
    "sketch_path_train = os.path.join(os.getcwd(),\"data\",\"aligned\",\"test\", \"sketch\")\n",
    "opt.dataset_name = \"aligned\"\n",
    "dataset = load_data(photo_path_train,sketch_path_train,opt)"
   ]
  },
  {
   "cell_type": "code",
   "execution_count": 13,
   "metadata": {},
   "outputs": [],
   "source": [
    "path = os.path.join(os.getcwd(),\"Outputs\",\"UNet++_Test_Images\")\n",
    "mkdir(path)\n",
    "save_images(dataset,path)"
   ]
  },
  {
   "cell_type": "code",
   "execution_count": null,
   "metadata": {},
   "outputs": [],
   "source": []
  }
 ],
 "metadata": {
  "kernelspec": {
   "display_name": "Environment (conda_pytorch_p36)",
   "language": "python",
   "name": "conda_pytorch_p36"
  },
  "language_info": {
   "codemirror_mode": {
    "name": "ipython",
    "version": 3
   },
   "file_extension": ".py",
   "mimetype": "text/x-python",
   "name": "python",
   "nbconvert_exporter": "python",
   "pygments_lexer": "ipython3",
   "version": "3.6.10"
  }
 },
 "nbformat": 4,
 "nbformat_minor": 4
}
